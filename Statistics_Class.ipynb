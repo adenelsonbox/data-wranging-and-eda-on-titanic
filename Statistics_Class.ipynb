{
 "cells": [
  {
   "cell_type": "markdown",
   "id": "9e7b01a6",
   "metadata": {},
   "source": [
    "# Statistics: means the science of collecting data or information fot analysis which can be represented graphically or in chart\n",
    "\n",
    "2 Major Types of Statistics\n",
    " - Inferential Statistics\n",
    " - Descriptive Statistics\n",
    "  \n",
    "  # Inferential Statistics makes prediction or conclusion about a population based on sample size and makes a generalization about the entire population\n",
    "  \n",
    "  # Descriptive Statistics is used to summarizes a data.it also summarizes the sample size. for DS, we have Measure of Central Tendency, Measure of Dispersion"
   ]
  },
  {
   "cell_type": "code",
   "execution_count": 3,
   "id": "2774fd76",
   "metadata": {},
   "outputs": [],
   "source": [
    "# Measure pf Central Tendency\n",
    "# Mean, Median and Mode\n",
    "\n",
    "import math\n",
    "import numpy as np\n",
    "Age = [23,24,25,26,29,30]"
   ]
  },
  {
   "cell_type": "code",
   "execution_count": 5,
   "id": "66733a23",
   "metadata": {},
   "outputs": [
    {
     "data": {
      "text/plain": [
       "26.166666666666668"
      ]
     },
     "execution_count": 5,
     "metadata": {},
     "output_type": "execute_result"
    }
   ],
   "source": [
    "np.mean(Age)"
   ]
  },
  {
   "cell_type": "code",
   "execution_count": 6,
   "id": "8cf5ce33",
   "metadata": {},
   "outputs": [],
   "source": [
    "mean_age = round(np.mean(Age),0)"
   ]
  },
  {
   "cell_type": "code",
   "execution_count": 7,
   "id": "ff159e5e",
   "metadata": {},
   "outputs": [
    {
     "data": {
      "text/plain": [
       "26.0"
      ]
     },
     "execution_count": 7,
     "metadata": {},
     "output_type": "execute_result"
    }
   ],
   "source": [
    "mean_age"
   ]
  },
  {
   "cell_type": "code",
   "execution_count": 18,
   "id": "52d6a412",
   "metadata": {},
   "outputs": [],
   "source": [
    "# Data Showing the population age of People living Berger\n",
    "population_age = [12,14,15,16,18,20,22,24,26,28,30,32,34,36,38,40,42,44,46,48,50,52,54,56,58,60,62,64,66,68,70,72,74,76,78,80,82,84,86,88,90,92,94,96,98,100,13,12,14,12,15,16,18,20,21,22,23,24,25,30,30,30,40,44,46,48,48,34,34,35,36,37,38,12,13,50,51,52,53,54,56,57,58,59,40,41,43,45,47,49,31,33,35,37,39,61,63,65,67,69]"
   ]
  },
  {
   "cell_type": "code",
   "execution_count": 14,
   "id": "69da256a",
   "metadata": {},
   "outputs": [
    {
     "name": "stdout",
     "output_type": "stream",
     "text": [
      "100\n"
     ]
    }
   ],
   "source": [
    "a= len(population_age)\n",
    "print(a)"
   ]
  },
  {
   "cell_type": "code",
   "execution_count": 15,
   "id": "f5e1beb9",
   "metadata": {},
   "outputs": [
    {
     "data": {
      "text/plain": [
       "45.8"
      ]
     },
     "execution_count": 15,
     "metadata": {},
     "output_type": "execute_result"
    }
   ],
   "source": [
    "np.mean(population_age)"
   ]
  },
  {
   "cell_type": "code",
   "execution_count": 17,
   "id": "df382771",
   "metadata": {},
   "outputs": [
    {
     "data": {
      "text/plain": [
       "46.0"
      ]
     },
     "execution_count": 17,
     "metadata": {},
     "output_type": "execute_result"
    }
   ],
   "source": [
    "popnAge = round(np.mean(population_age),0)\n",
    "\n",
    "popnAge"
   ]
  },
  {
   "cell_type": "markdown",
   "id": "c09159dd",
   "metadata": {},
   "source": [
    "# From the population of Age of people living in Berger\n",
    "- we observed that the average age of 46.0 of the population belongs to active labour force. They are the age of active services"
   ]
  },
  {
   "cell_type": "code",
   "execution_count": 20,
   "id": "30ff7d41",
   "metadata": {},
   "outputs": [
    {
     "data": {
      "text/plain": [
       "44.0"
      ]
     },
     "execution_count": 20,
     "metadata": {},
     "output_type": "execute_result"
    }
   ],
   "source": [
    "AM = round(np.median(population_age),0)\n",
    "\n",
    "AM"
   ]
  },
  {
   "cell_type": "code",
   "execution_count": 25,
   "id": "ed625e1a",
   "metadata": {},
   "outputs": [],
   "source": [
    "# If a set of students are given a test to ascertaijn their typing speed as follows\n",
    "typingSpeed = [2,3,5,6,7,1,4,9,2,4,3,1,9,7,6,5,3,4]\n"
   ]
  },
  {
   "cell_type": "code",
   "execution_count": 26,
   "id": "cbf06371",
   "metadata": {},
   "outputs": [
    {
     "data": {
      "text/plain": [
       "4.0"
      ]
     },
     "execution_count": 26,
     "metadata": {},
     "output_type": "execute_result"
    }
   ],
   "source": [
    "MedianAge = round(np.median(typingSpeed),0)\n",
    "MedianAge"
   ]
  },
  {
   "cell_type": "markdown",
   "id": "595fae5a",
   "metadata": {},
   "source": [
    "# TO SUMMARIZE THE DATA ABOVE\n",
    "- The  Above data shows that students that finished typing before the median value 4 are fast typers \n",
    "- students that finished at 4.0 can be described as medium typers\n",
    "- FInally students that finished after the median Value 4 are slow typers"
   ]
  },
  {
   "cell_type": "code",
   "execution_count": 31,
   "id": "4a9cbd59",
   "metadata": {},
   "outputs": [],
   "source": [
    "# Mode shows the value with the highest reoccurrence i.e. The number that came out more out a data\n",
    "userId = [202,202,203,204,205,206,206,207,206,208,209,210,211,202,205]"
   ]
  },
  {
   "cell_type": "code",
   "execution_count": 29,
   "id": "8a556fbd",
   "metadata": {},
   "outputs": [],
   "source": [
    "import statistics as st"
   ]
  },
  {
   "cell_type": "code",
   "execution_count": 30,
   "id": "6e558b14",
   "metadata": {},
   "outputs": [
    {
     "data": {
      "text/plain": [
       "202"
      ]
     },
     "execution_count": 30,
     "metadata": {},
     "output_type": "execute_result"
    }
   ],
   "source": [
    "st.mode(userId)"
   ]
  },
  {
   "cell_type": "code",
   "execution_count": 32,
   "id": "227f81c5",
   "metadata": {},
   "outputs": [],
   "source": [
    "# Find the following: Mean, Median, Mode from the data below:\n",
    "\n",
    "unitPrice =[500,400,300,200,100,500,500,600,300,150,500,650,700,380]"
   ]
  },
  {
   "cell_type": "code",
   "execution_count": 36,
   "id": "36ad1f7e",
   "metadata": {},
   "outputs": [
    {
     "data": {
      "text/plain": [
       "413.0"
      ]
     },
     "execution_count": 36,
     "metadata": {},
     "output_type": "execute_result"
    }
   ],
   "source": [
    "# Mean\n",
    "MeanPrice = round(np.mean(unitPrice),0)\n",
    "MeanPrice"
   ]
  },
  {
   "cell_type": "code",
   "execution_count": 37,
   "id": "f82b921a",
   "metadata": {},
   "outputs": [
    {
     "data": {
      "text/plain": [
       "450.0"
      ]
     },
     "execution_count": 37,
     "metadata": {},
     "output_type": "execute_result"
    }
   ],
   "source": [
    "# Median\n",
    "MedianPrice = round(np.median(unitPrice),0)\n",
    "MedianPrice"
   ]
  },
  {
   "cell_type": "code",
   "execution_count": 38,
   "id": "8ef0c3d6",
   "metadata": {},
   "outputs": [
    {
     "data": {
      "text/plain": [
       "500"
      ]
     },
     "execution_count": 38,
     "metadata": {},
     "output_type": "execute_result"
    }
   ],
   "source": [
    "# Mode\n",
    "st.mode(unitPrice)"
   ]
  },
  {
   "cell_type": "markdown",
   "id": "ad384c03",
   "metadata": {},
   "source": [
    "# Measure Of Dispersion\n",
    "- Range: shows how spread the data is, by calculating the difference between the highest and the lowest"
   ]
  },
  {
   "cell_type": "code",
   "execution_count": 39,
   "id": "cd53f94c",
   "metadata": {},
   "outputs": [],
   "source": [
    "A = [250,340,500,600,780,800,1000,3780,200]"
   ]
  },
  {
   "cell_type": "code",
   "execution_count": 45,
   "id": "8a81fd90",
   "metadata": {},
   "outputs": [],
   "source": [
    "import statistics as st\n",
    "import numpy as np\n",
    "\n",
    "range_a = np.ptp(A)"
   ]
  },
  {
   "cell_type": "code",
   "execution_count": 46,
   "id": "8dad3af6",
   "metadata": {},
   "outputs": [
    {
     "data": {
      "text/plain": [
       "3580"
      ]
     },
     "execution_count": 46,
     "metadata": {},
     "output_type": "execute_result"
    }
   ],
   "source": [
    "range_a"
   ]
  },
  {
   "cell_type": "code",
   "execution_count": 47,
   "id": "64b43e50",
   "metadata": {},
   "outputs": [],
   "source": [
    "# Find the range of the population age of the people living in Berger\n",
    "population_age = [12,14,15,16,18,20,22,24,26,28,30,32,34,36,38,40,42,44,46,48,50,52,54,56,58,60,62,64,66,68,70,72,74,76,78,80,82,84,86,88,90,92,94,96,98,100,13,12,14,12,15,16,18,20,21,22,23,24,25,30,30,30,40,44,46,48,48,34,34,35,36,37,38,12,13,50,51,52,53,54,56,57,58,59,40,41,43,45,47,49,31,33,35,37,39,61,63,65,67,69]"
   ]
  },
  {
   "cell_type": "code",
   "execution_count": 48,
   "id": "5e58ad23",
   "metadata": {},
   "outputs": [
    {
     "data": {
      "text/plain": [
       "88"
      ]
     },
     "execution_count": 48,
     "metadata": {},
     "output_type": "execute_result"
    }
   ],
   "source": [
    "range_age = np.ptp(population_age)\n",
    "range_age"
   ]
  },
  {
   "cell_type": "markdown",
   "id": "0613d4f4",
   "metadata": {},
   "source": [
    "# Interquartile Range\n",
    "- Unlike median that divides the data into 2 parts, quantile divides the data set into four parts.\n",
    "- Quantile deals with value from 0 to 1 i.e. 0.25, 0.50, 0.75 to 1 while Percentile starts from 1 to 100 like 25,50,75,100"
   ]
  },
  {
   "cell_type": "code",
   "execution_count": 72,
   "id": "e59d5e29",
   "metadata": {},
   "outputs": [],
   "source": [
    "# Quartile Exercise\n",
    "totalPrice = [20,40,30,35,50,34,40,50,55,56,58,60,70,80,90,56,43,18,19,21]"
   ]
  },
  {
   "cell_type": "code",
   "execution_count": 52,
   "id": "305bb322",
   "metadata": {},
   "outputs": [],
   "source": [
    "# For First Quantile, we have: \n",
    "q1 = np.quantile(totalPrice, 0.25)"
   ]
  },
  {
   "cell_type": "code",
   "execution_count": 51,
   "id": "f37a2d05",
   "metadata": {},
   "outputs": [
    {
     "data": {
      "text/plain": [
       "33.0"
      ]
     },
     "execution_count": 51,
     "metadata": {},
     "output_type": "execute_result"
    }
   ],
   "source": [
    "q1"
   ]
  },
  {
   "cell_type": "code",
   "execution_count": 55,
   "id": "e70f763f",
   "metadata": {},
   "outputs": [],
   "source": [
    "# For Second Quantile, we have:\n",
    "q2 = np.quantile(totalPrice,0.50)"
   ]
  },
  {
   "cell_type": "code",
   "execution_count": 56,
   "id": "c5c244ad",
   "metadata": {},
   "outputs": [
    {
     "data": {
      "text/plain": [
       "46.5"
      ]
     },
     "execution_count": 56,
     "metadata": {},
     "output_type": "execute_result"
    }
   ],
   "source": [
    "q2"
   ]
  },
  {
   "cell_type": "code",
   "execution_count": 57,
   "id": "61abc121",
   "metadata": {},
   "outputs": [
    {
     "data": {
      "text/plain": [
       "56.5"
      ]
     },
     "execution_count": 57,
     "metadata": {},
     "output_type": "execute_result"
    }
   ],
   "source": [
    "# For Third Quantile, we have:\n",
    "q3 = np.quantile(totalPrice, 0.75)\n",
    "q3"
   ]
  },
  {
   "cell_type": "code",
   "execution_count": 58,
   "id": "ce1ac583",
   "metadata": {},
   "outputs": [
    {
     "data": {
      "text/plain": [
       "90"
      ]
     },
     "execution_count": 58,
     "metadata": {},
     "output_type": "execute_result"
    }
   ],
   "source": [
    "# For Fourth Quantile, we have:\n",
    "q4 = np.quantile(totalPrice, 1)\n",
    "q4"
   ]
  },
  {
   "cell_type": "code",
   "execution_count": 61,
   "id": "77e55e21",
   "metadata": {},
   "outputs": [],
   "source": [
    "# Percentile Exercise\n",
    "totalRevenue = [2500,3000,4500,5000,5500,6000,6500,7000,7500,8000,8500,9000,9500,10000,2600,2700,2800,2900,3100,3200]"
   ]
  },
  {
   "cell_type": "code",
   "execution_count": 68,
   "id": "5597646f",
   "metadata": {},
   "outputs": [],
   "source": [
    "# For First Percentile, we have:\n",
    "p1 = np.percentile(totalRevenue,25)"
   ]
  },
  {
   "cell_type": "code",
   "execution_count": 63,
   "id": "dde878c2",
   "metadata": {},
   "outputs": [
    {
     "data": {
      "text/plain": [
       "2975.0"
      ]
     },
     "execution_count": 63,
     "metadata": {},
     "output_type": "execute_result"
    }
   ],
   "source": [
    "p1"
   ]
  },
  {
   "cell_type": "code",
   "execution_count": 69,
   "id": "ee282e4f",
   "metadata": {},
   "outputs": [],
   "source": [
    "# For Second Percentile, we have:\n",
    "p2 = np.percentile(totalRevenue,50)"
   ]
  },
  {
   "cell_type": "code",
   "execution_count": 65,
   "id": "79cd28fd",
   "metadata": {},
   "outputs": [
    {
     "data": {
      "text/plain": [
       "5250.0"
      ]
     },
     "execution_count": 65,
     "metadata": {},
     "output_type": "execute_result"
    }
   ],
   "source": [
    "p2"
   ]
  },
  {
   "cell_type": "code",
   "execution_count": 70,
   "id": "dbbac09d",
   "metadata": {},
   "outputs": [
    {
     "data": {
      "text/plain": [
       "7625.0"
      ]
     },
     "execution_count": 70,
     "metadata": {},
     "output_type": "execute_result"
    }
   ],
   "source": [
    "# FOr Third Percentile, we have:\n",
    "p3 = np.percentile(totalRevenue,75)\n",
    "p3"
   ]
  },
  {
   "cell_type": "code",
   "execution_count": 71,
   "id": "46ceff0a",
   "metadata": {},
   "outputs": [
    {
     "data": {
      "text/plain": [
       "10000.0"
      ]
     },
     "execution_count": 71,
     "metadata": {},
     "output_type": "execute_result"
    }
   ],
   "source": [
    "# For Fourth, percentile, we have:\n",
    "p4 = np.percentile(totalRevenue,100)\n",
    "p4"
   ]
  },
  {
   "cell_type": "markdown",
   "id": "fabe1364",
   "metadata": {},
   "source": [
    "# Interquantile range (IRQ): gives the difference between third quantile and first quantile, It helps us to see how clustered our data is\n",
    "- IRQ = Q3 - Q1\n",
    "- Range observes the overview of the entire data while the interquantile range observes the overview of half the data set\n",
    "- Interquantile range helps to know how clustered a particular data set is."
   ]
  },
  {
   "cell_type": "code",
   "execution_count": 74,
   "id": "0549f634",
   "metadata": {},
   "outputs": [],
   "source": [
    "# From the data below, calculate the interquantile range:\n",
    "age = [25,50,60,62,64,65,66,67,68,69,70,72,74,76,78,80,82,84,86,88,90,92,93,94,96,98,100,10,12,13,14,15,16,17,18,19,20]"
   ]
  },
  {
   "cell_type": "code",
   "execution_count": 76,
   "id": "e74995bc",
   "metadata": {},
   "outputs": [
    {
     "data": {
      "text/plain": [
       "84.0"
      ]
     },
     "execution_count": 76,
     "metadata": {},
     "output_type": "execute_result"
    }
   ],
   "source": [
    "Q3 = np.quantile(age, 0.75)\n",
    "Q3"
   ]
  },
  {
   "cell_type": "code",
   "execution_count": 77,
   "id": "7f9a4c40",
   "metadata": {},
   "outputs": [
    {
     "data": {
      "text/plain": [
       "20.0"
      ]
     },
     "execution_count": 77,
     "metadata": {},
     "output_type": "execute_result"
    }
   ],
   "source": [
    "Q1 = np.quantile(age, 0.25)\n",
    "Q1"
   ]
  },
  {
   "cell_type": "code",
   "execution_count": 79,
   "id": "03b98ee4",
   "metadata": {},
   "outputs": [
    {
     "data": {
      "text/plain": [
       "64.0"
      ]
     },
     "execution_count": 79,
     "metadata": {},
     "output_type": "execute_result"
    }
   ],
   "source": [
    "IQR = Q3 - Q1\n",
    "IQR"
   ]
  },
  {
   "cell_type": "markdown",
   "id": "00d489cd",
   "metadata": {},
   "source": [
    "# To find the outliers within the data set\n",
    "- counts + Q3: any number above value will be refered to upper outlier\n",
    "- counts - Q1: any number or numbers below this value will be lower outlier(s)"
   ]
  },
  {
   "cell_type": "code",
   "execution_count": 81,
   "id": "0c85e9d9",
   "metadata": {},
   "outputs": [
    {
     "data": {
      "text/plain": [
       "96.0"
      ]
     },
     "execution_count": 81,
     "metadata": {},
     "output_type": "execute_result"
    }
   ],
   "source": [
    "counts = IQR * 1.5\n",
    "\n",
    "counts"
   ]
  },
  {
   "cell_type": "code",
   "execution_count": 96,
   "id": "1b075fe8",
   "metadata": {},
   "outputs": [
    {
     "data": {
      "text/plain": [
       "180.0"
      ]
     },
     "execution_count": 96,
     "metadata": {},
     "output_type": "execute_result"
    }
   ],
   "source": [
    "# To calculate the higher outlier where counts = 96.0 and Q3 = 84.0\n",
    "upper = counts + Q3\n",
    "upper"
   ]
  },
  {
   "cell_type": "code",
   "execution_count": 90,
   "id": "d5d095e3",
   "metadata": {},
   "outputs": [
    {
     "data": {
      "text/plain": [
       "76.0"
      ]
     },
     "execution_count": 90,
     "metadata": {},
     "output_type": "execute_result"
    }
   ],
   "source": [
    "# To calculate for lower outlier where counts = 96.0 and Q1 = 20.0\n",
    "lower = counts - Q1\n",
    "lower"
   ]
  },
  {
   "cell_type": "code",
   "execution_count": 88,
   "id": "413b6a59",
   "metadata": {},
   "outputs": [
    {
     "data": {
      "text/plain": [
       "array([ 25,  50,  60,  62,  64,  65,  66,  67,  68,  69,  70,  72,  74,\n",
       "        76,  78,  80,  82,  84,  86,  88,  90,  92,  93,  94,  96,  98,\n",
       "       100,  10,  12,  13,  14,  15,  16,  17,  18,  19,  20])"
      ]
     },
     "execution_count": 88,
     "metadata": {},
     "output_type": "execute_result"
    }
   ],
   "source": [
    "arr = np.array(age)\n",
    "\n",
    "arr"
   ]
  },
  {
   "cell_type": "code",
   "execution_count": 93,
   "id": "79c9593f",
   "metadata": {},
   "outputs": [
    {
     "data": {
      "text/plain": [
       "array([25, 50, 60, 62, 64, 65, 66, 67, 68, 69, 70, 72, 74, 10, 12, 13, 14,\n",
       "       15, 16, 17, 18, 19, 20])"
      ]
     },
     "execution_count": 93,
     "metadata": {},
     "output_type": "execute_result"
    }
   ],
   "source": [
    "lower_outlier = arr[arr<lower]\n",
    "lower_outlier"
   ]
  },
  {
   "cell_type": "code",
   "execution_count": 94,
   "id": "749a2f90",
   "metadata": {},
   "outputs": [
    {
     "name": "stdout",
     "output_type": "stream",
     "text": [
      "The total number of lower outlier in the dataset is 23\n"
     ]
    }
   ],
   "source": [
    "len_outlier = len(lower_outlier)\n",
    "print(\"The total number of lower outlier in the dataset is\", len_outlier)"
   ]
  },
  {
   "cell_type": "code",
   "execution_count": 99,
   "id": "18ee5d26",
   "metadata": {},
   "outputs": [
    {
     "data": {
      "text/plain": [
       "array([], dtype=int32)"
      ]
     },
     "execution_count": 99,
     "metadata": {},
     "output_type": "execute_result"
    }
   ],
   "source": [
    "# To check for the upper outlier\n",
    "upper_outlier = arr[arr>upper]\n",
    "upper_outlier"
   ]
  },
  {
   "cell_type": "code",
   "execution_count": 103,
   "id": "da8df9c1",
   "metadata": {},
   "outputs": [],
   "source": [
    "exam_score =[61,62,63,64,65,66,67,68,69,70,33,34,35,36,50,55,56,57,58,59,60,63,66,69,70,71,72,73,74,75,76,77,78,79,80,40,41,42,43,43,44,45,46,47,48,49,50,30,31,32,33,34,35,36,37,38,39,40,50,51,52,53,54,55,56,57,58,59,60,20,21,22,23,24,25,26,27,28,29,30,10,11,12,13,14,15,26,17,18,19,20,120,130,140,150,160,170,180,190,200]"
   ]
  },
  {
   "cell_type": "code",
   "execution_count": 104,
   "id": "ba613979",
   "metadata": {},
   "outputs": [
    {
     "data": {
      "text/plain": [
       "100"
      ]
     },
     "execution_count": 104,
     "metadata": {},
     "output_type": "execute_result"
    }
   ],
   "source": [
    "len(exam_score)"
   ]
  },
  {
   "cell_type": "markdown",
   "id": "66103d9d",
   "metadata": {},
   "source": [
    "# Class Exercise\n",
    "- Find the number of students that scored below the first quantile\n",
    "- Find the students that scored above q3\n",
    "- Determine if the data has upper outlier and lower outlier"
   ]
  },
  {
   "cell_type": "code",
   "execution_count": 107,
   "id": "7cff7b01",
   "metadata": {},
   "outputs": [
    {
     "data": {
      "text/plain": [
       "32.75"
      ]
     },
     "execution_count": 107,
     "metadata": {},
     "output_type": "execute_result"
    }
   ],
   "source": [
    "Q1 = np.quantile(exam_score,0.25)\n",
    "Q1"
   ]
  },
  {
   "cell_type": "code",
   "execution_count": 108,
   "id": "69b56df7",
   "metadata": {},
   "outputs": [
    {
     "data": {
      "text/plain": [
       "66.25"
      ]
     },
     "execution_count": 108,
     "metadata": {},
     "output_type": "execute_result"
    }
   ],
   "source": [
    "Q3 = np.quantile(exam_score, 0.75)\n",
    "Q3"
   ]
  },
  {
   "cell_type": "code",
   "execution_count": 109,
   "id": "f9a6bb25",
   "metadata": {},
   "outputs": [
    {
     "data": {
      "text/plain": [
       "33.5"
      ]
     },
     "execution_count": 109,
     "metadata": {},
     "output_type": "execute_result"
    }
   ],
   "source": [
    "IQR = Q3 - Q1\n",
    "IQR"
   ]
  },
  {
   "cell_type": "code",
   "execution_count": 110,
   "id": "76464e4b",
   "metadata": {},
   "outputs": [
    {
     "data": {
      "text/plain": [
       "50.25"
      ]
     },
     "execution_count": 110,
     "metadata": {},
     "output_type": "execute_result"
    }
   ],
   "source": [
    "exam_count= IQR * 1.5\n",
    "exam_count"
   ]
  },
  {
   "cell_type": "code",
   "execution_count": 112,
   "id": "717cf36f",
   "metadata": {},
   "outputs": [
    {
     "data": {
      "text/plain": [
       "116.5"
      ]
     },
     "execution_count": 112,
     "metadata": {},
     "output_type": "execute_result"
    }
   ],
   "source": [
    "upper_exam = exam_count + Q3\n",
    "upper_exam"
   ]
  },
  {
   "cell_type": "code",
   "execution_count": 115,
   "id": "f76e54b5",
   "metadata": {},
   "outputs": [
    {
     "data": {
      "text/plain": [
       "17.5"
      ]
     },
     "execution_count": 115,
     "metadata": {},
     "output_type": "execute_result"
    }
   ],
   "source": [
    "lower_exam = exam_count - Q1\n",
    "lower_exam"
   ]
  },
  {
   "cell_type": "code",
   "execution_count": 118,
   "id": "75625377",
   "metadata": {
    "scrolled": true
   },
   "outputs": [
    {
     "data": {
      "text/plain": [
       "array([ 61,  62,  63,  64,  65,  66,  67,  68,  69,  70,  33,  34,  35,\n",
       "        36,  50,  55,  56,  57,  58,  59,  60,  63,  66,  69,  70,  71,\n",
       "        72,  73,  74,  75,  76,  77,  78,  79,  80,  40,  41,  42,  43,\n",
       "        43,  44,  45,  46,  47,  48,  49,  50,  30,  31,  32,  33,  34,\n",
       "        35,  36,  37,  38,  39,  40,  50,  51,  52,  53,  54,  55,  56,\n",
       "        57,  58,  59,  60,  20,  21,  22,  23,  24,  25,  26,  27,  28,\n",
       "        29,  30,  10,  11,  12,  13,  14,  15,  26,  17,  18,  19,  20,\n",
       "       120, 130, 140, 150, 160, 170, 180, 190, 200])"
      ]
     },
     "execution_count": 118,
     "metadata": {},
     "output_type": "execute_result"
    }
   ],
   "source": [
    "arr1= np.array(exam_score)\n",
    "arr1"
   ]
  },
  {
   "cell_type": "code",
   "execution_count": 130,
   "id": "a8679625",
   "metadata": {},
   "outputs": [
    {
     "name": "stdout",
     "output_type": "stream",
     "text": [
      "The Number of Students that scored below the Q1 is 25 and their Exam Scores are [30 31 32 20 21 22 23 24 25 26 27 28 29 30 10 11 12 13 14 15 26 17 18 19\n",
      " 20]\n"
     ]
    }
   ],
   "source": [
    "# Question 1... STudents that scored below Q1\n",
    "below_Q1 = arr1[arr1<Q1]\n",
    "below_Q1\n",
    "print(\"The Number of Students that scored below the Q1 is\", len(below_Q1), \"and their Exam Scores are\", below_Q1)"
   ]
  },
  {
   "cell_type": "code",
   "execution_count": 132,
   "id": "a608fc2a",
   "metadata": {},
   "outputs": [
    {
     "name": "stdout",
     "output_type": "stream",
     "text": [
      "The number of students that score above Q3 is 25 and their Exam Scores are [ 67  68  69  70  69  70  71  72  73  74  75  76  77  78  79  80 120 130\n",
      " 140 150 160 170 180 190 200]\n"
     ]
    }
   ],
   "source": [
    "# Question 2... Students that scored below Q3\n",
    "above_Q3 = arr1[arr1>Q3]\n",
    "above_Q3\n",
    "print(\"The number of students that score above Q3 is\", len(above_Q3), \"and their Exam Scores are\", above_Q3)"
   ]
  },
  {
   "cell_type": "code",
   "execution_count": 122,
   "id": "4ee9723b",
   "metadata": {},
   "outputs": [
    {
     "data": {
      "text/plain": [
       "array([120, 130, 140, 150, 160, 170, 180, 190, 200])"
      ]
     },
     "execution_count": 122,
     "metadata": {},
     "output_type": "execute_result"
    }
   ],
   "source": [
    "# Question 3.. Upper Outlier\n",
    "upper_Outlier = arr1[arr1>upper_exam]\n",
    "upper_Outlier"
   ]
  },
  {
   "cell_type": "code",
   "execution_count": 126,
   "id": "cf3f2826",
   "metadata": {},
   "outputs": [
    {
     "name": "stdout",
     "output_type": "stream",
     "text": [
      "The Total Number of Upper Outlier in the Exam Score is 9 and they are [120 130 140 150 160 170 180 190 200]\n"
     ]
    }
   ],
   "source": [
    "len_E = len(upper_Outlier)\n",
    "print(\"The Total Number of Upper Outlier in the Exam Score is\", len_E, \"and they are\", upper_Outlier)"
   ]
  },
  {
   "cell_type": "code",
   "execution_count": 133,
   "id": "204b2c17",
   "metadata": {},
   "outputs": [
    {
     "data": {
      "text/plain": [
       "array([10, 11, 12, 13, 14, 15, 17])"
      ]
     },
     "execution_count": 133,
     "metadata": {},
     "output_type": "execute_result"
    }
   ],
   "source": [
    "# Question 3: Lower Outlier\n",
    "lower_outlier = arr1[arr1<lower_exam]\n",
    "lower_outlier"
   ]
  },
  {
   "cell_type": "code",
   "execution_count": 127,
   "id": "23a96cec",
   "metadata": {},
   "outputs": [
    {
     "name": "stdout",
     "output_type": "stream",
     "text": [
      "The Total Number of Lower Outlier in the Exam Score is 7 and they are [10 11 12 13 14 15 17]\n"
     ]
    }
   ],
   "source": [
    "len_E2= len(lower_outlier)\n",
    "print(\"The Total Number of Lower Outlier in the Exam Score is\", len_E2, \"and they are\", lower_outlier)"
   ]
  }
 ],
 "metadata": {
  "kernelspec": {
   "display_name": "Python 3 (ipykernel)",
   "language": "python",
   "name": "python3"
  },
  "language_info": {
   "codemirror_mode": {
    "name": "ipython",
    "version": 3
   },
   "file_extension": ".py",
   "mimetype": "text/x-python",
   "name": "python",
   "nbconvert_exporter": "python",
   "pygments_lexer": "ipython3",
   "version": "3.9.13"
  }
 },
 "nbformat": 4,
 "nbformat_minor": 5
}
